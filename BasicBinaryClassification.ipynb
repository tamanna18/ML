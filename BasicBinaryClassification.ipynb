{
 "cells": [
  {
   "cell_type": "markdown",
   "metadata": {
    "id": "aD7ZYYXCtBr6"
   },
   "source": [
    "# Student Classification"
   ]
  },
  {
   "cell_type": "markdown",
   "metadata": {
    "id": "8VG3o1bl0cM_"
   },
   "source": [
    "#### Framework and Data"
   ]
  },
  {
   "cell_type": "code",
   "execution_count": null,
   "metadata": {
    "colab": {
     "base_uri": "https://localhost:8080/",
     "height": 351
    },
    "id": "6Jo7D19MfAiR",
    "outputId": "6849e234-327b-4a0d-de46-f62edf88cc2a"
   },
   "outputs": [],
   "source": [
    "from sklearn.preprocessing import StandardScaler\n",
    "from sklearn.linear_model import LogisticRegression\n",
    "from sklearn.metrics import accuracy_score\n",
    "from sklearn.metrics import classification_report\n",
    "from sklearn.externals import joblib\n",
    "import os\n",
    "import pandas as pd\n",
    "import numpy as np\n",
    "\n",
    "df = pd.read_csv(\"https://raw.githubusercontent.com/dipanjanS/practical-machine-learning-with-python/master/notebooks/Ch01_Machine_Learning_Basics/student_records.csv\")\n",
    "df"
   ]
  },
  {
   "cell_type": "markdown",
   "metadata": {
    "id": "v5mcq08q0pgo"
   },
   "source": [
    "#### Preprocessing"
   ]
  },
  {
   "cell_type": "code",
   "execution_count": 97,
   "metadata": {
    "id": "9deR0HhNfj1B"
   },
   "outputs": [],
   "source": [
    "feature_names = [\"OverallGrade\", \"Obedient\", \"ResearchScore\", \"ProjectScore\"]\n",
    "\n",
    "target = df[\"Recommend\"]\n",
    "features = df[feature_names]\n",
    "\n",
    "numerical_keys = [\"ResearchScore\", \"ProjectScore\"]\n",
    "categorical_keys = [\"OverallGrade\", \"Obedient\"]"
   ]
  },
  {
   "cell_type": "code",
   "execution_count": 98,
   "metadata": {
    "colab": {
     "base_uri": "https://localhost:8080/"
    },
    "id": "_ZQ_jR6blU1Z",
    "outputId": "2eeba529-d34d-44bc-80ba-5875990ec63a"
   },
   "outputs": [
    {
     "name": "stderr",
     "output_type": "stream",
     "text": [
      "/usr/local/lib/python3.6/dist-packages/ipykernel_launcher.py:7: SettingWithCopyWarning: \n",
      "A value is trying to be set on a copy of a slice from a DataFrame.\n",
      "Try using .loc[row_indexer,col_indexer] = value instead\n",
      "\n",
      "See the caveats in the documentation: https://pandas.pydata.org/pandas-docs/stable/user_guide/indexing.html#returning-a-view-versus-a-copy\n",
      "  import sys\n",
      "/usr/local/lib/python3.6/dist-packages/pandas/core/indexing.py:1734: SettingWithCopyWarning: \n",
      "A value is trying to be set on a copy of a slice from a DataFrame.\n",
      "Try using .loc[row_indexer,col_indexer] = value instead\n",
      "\n",
      "See the caveats in the documentation: https://pandas.pydata.org/pandas-docs/stable/user_guide/indexing.html#returning-a-view-versus-a-copy\n",
      "  isetter(loc, value[:, i].tolist())\n"
     ]
    }
   ],
   "source": [
    "# conditional attribution on (target==\"Yes\"): 1 for true, 0 for false\n",
    "target = np.where(target == \"Yes\", 1, 0)\n",
    "\n",
    "# scaling\n",
    "ss = StandardScaler()\n",
    "ss.fit(df[numerical_keys])\n",
    "features[numerical_keys] = ss.transform(df[numerical_keys])\n",
    "\n",
    "# one-hot encoding\n",
    "features = pd.get_dummies(features, columns=categorical_keys)"
   ]
  },
  {
   "cell_type": "markdown",
   "metadata": {
    "id": "n1Uy7IAn002N"
   },
   "source": [
    "#### Training"
   ]
  },
  {
   "cell_type": "code",
   "execution_count": 99,
   "metadata": {
    "id": "byqambyAxY77"
   },
   "outputs": [],
   "source": [
    "# validation split\n",
    "test_target = target[5:]\n",
    "test_features = features[5:]\n",
    "\n",
    "# training split\n",
    "target = target[:5]\n",
    "features = features[:5]"
   ]
  },
  {
   "cell_type": "code",
   "execution_count": 100,
   "metadata": {
    "colab": {
     "base_uri": "https://localhost:8080/"
    },
    "id": "u-azfrhrpPs-",
    "outputId": "f86d1c86-b72b-48b4-a496-9d692a5dc4a2"
   },
   "outputs": [
    {
     "data": {
      "text/plain": [
       "LogisticRegression(C=1.0, class_weight=None, dual=False, fit_intercept=True,\n",
       "                   intercept_scaling=1, l1_ratio=None, max_iter=100,\n",
       "                   multi_class='auto', n_jobs=None, penalty='l2',\n",
       "                   random_state=None, solver='lbfgs', tol=0.0001, verbose=0,\n",
       "                   warm_start=False)"
      ]
     },
     "execution_count": 100,
     "metadata": {
      "tags": []
     },
     "output_type": "execute_result"
    }
   ],
   "source": [
    "lr = LogisticRegression()\n",
    "\n",
    "model = lr.fit(features, target)\n",
    "\n",
    "model"
   ]
  },
  {
   "cell_type": "markdown",
   "metadata": {
    "id": "8DkrD3Fo06yT"
   },
   "source": [
    "#### Evaluation"
   ]
  },
  {
   "cell_type": "code",
   "execution_count": 101,
   "metadata": {
    "colab": {
     "base_uri": "https://localhost:8080/"
    },
    "id": "JAlbBX_FwHXh",
    "outputId": "aade60e7-03ad-470e-f544-cf45556327ce"
   },
   "outputs": [
    {
     "name": "stdout",
     "output_type": "stream",
     "text": [
      "Accuracy:  100.0 %\n",
      "Classification Stats: \n",
      "               precision    recall  f1-score   support\n",
      "\n",
      "           0       1.00      1.00      1.00         2\n",
      "           1       1.00      1.00      1.00         1\n",
      "\n",
      "    accuracy                           1.00         3\n",
      "   macro avg       1.00      1.00      1.00         3\n",
      "weighted avg       1.00      1.00      1.00         3\n",
      "\n"
     ]
    }
   ],
   "source": [
    "predictions = model.predict(test_features)\n",
    "print(\"Accuracy: \", float(accuracy_score(test_target, predictions))*100, \"%\")\n",
    "print(\"Classification Stats: \\n\", classification_report(test_target, predictions))"
   ]
  },
  {
   "cell_type": "markdown",
   "metadata": {
    "id": "PWI6RTUO08_W"
   },
   "source": [
    "#### Deploy"
   ]
  },
  {
   "cell_type": "code",
   "execution_count": 102,
   "metadata": {
    "colab": {
     "base_uri": "https://localhost:8080/"
    },
    "id": "N-91j3SetLSJ",
    "outputId": "be4e1c32-b5de-4243-f32d-edffe2f5fb7c"
   },
   "outputs": [
    {
     "data": {
      "text/plain": [
       "['Scaler/scaler.pickle']"
      ]
     },
     "execution_count": 102,
     "metadata": {
      "tags": []
     },
     "output_type": "execute_result"
    }
   ],
   "source": [
    "# to save and load the model and the scaler we need to run it on a local machine\n",
    "\n",
    "if not os.path.exists('Model'):\n",
    "  os.mkdir('Model')\n",
    "if not os.path.exists('Scaler'):\n",
    "  os.mkdir('Scaler')\n",
    "\n",
    "# create the files\n",
    "joblib.dump(model, r'Model/model.pickle')\n",
    "joblib.dump(ss, r'Scaler/scaler.pickle')\n",
    "\n",
    "# load the files\n",
    "model = joblib.load(r'Model/model.pickle')\n",
    "scaler = joblib.load(r'Scaler/scaler.pickle')"
   ]
  }
 ],
 "metadata": {
  "colab": {
   "authorship_tag": "ABX9TyPa82QyNIf7nf4CVJzTruSF",
   "include_colab_link": true,
   "name": "BasicBinaryClassification.ipynb",
   "provenance": []
  },
  "kernelspec": {
   "display_name": "Python 3",
   "language": "python",
   "name": "python3"
  },
  "language_info": {
   "codemirror_mode": {
    "name": "ipython",
    "version": 3
   },
   "file_extension": ".py",
   "mimetype": "text/x-python",
   "name": "python",
   "nbconvert_exporter": "python",
   "pygments_lexer": "ipython3",
   "version": "3.8.5"
  }
 },
 "nbformat": 4,
 "nbformat_minor": 1
}
