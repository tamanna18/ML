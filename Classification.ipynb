{
 "cells": [
  {
   "cell_type": "code",
   "execution_count": null,
   "metadata": {
    "id": "gFHNYBzXQHyI"
   },
   "outputs": [],
   "source": [
    "# data acquisition\n",
    "df = pd.read_csv(\"https://raw.githubusercontent.com/J0AZZ/artificial-intelligence_studies/master/artificial-intelligence_studies/introducao-ia-UFPB/Prova%201/Stars.csv\")\n",
    "df.info()\n",
    "print(\"\\n\\n\")\n",
    "\n",
    "# approaching categorical variables\n",
    "color_cat = pd.get_dummies(df[\"Color\"])\n",
    "spect_cat = pd.get_dummies(df[\"Spectral_Class\"])\n",
    "X = df[[\"Temperature\", \"L\", \"R\", \"A_M\"]]\n",
    "y = df[\"Type\"]\n",
    "X_normalized = (X-X.mean())/X.std()\n",
    "x = pd.concat(objs=[color_cat, spect_cat, X_normalized], axis=1)\n",
    "\n",
    "# splitting training and validation sets\n",
    "X_test, X_train = x.iloc[200:], x.iloc[:200] \n",
    "y_test, y_train = y.iloc[200:], y.iloc[:200]\n",
    "\n",
    "# model building with two different metrics and 5 values of k\n",
    "for metric in [\"manhattan\", \"euclidean\"]:\n",
    "  print(\"\\n\\nDistance Metric: \", metric, \"\\n\")\n",
    "  print(\"--------------------\")\n",
    "  for k in range(1,6):\n",
    "    knn = KNeighborsClassifier(n_neighbors=k, metric=metric)\n",
    "    knn.fit(X_train, y_train)\n",
    "    print(sk.metrics.classification_report(y_test, knn.predict(X_test)))\n",
    "    print(\"\\nk=\", k, \" Accuracy: \", knn.score(X_test, y_test)*100, \"%\")\n",
    "    print(\"Confusion Matrix:\\n\", sk.metrics.confusion_matrix(y_test, knn.predict(X_test)))\n",
    "  "
   ]
  }
 ],
 "metadata": {
  "colab": {
   "authorship_tag": "ABX9TyP3bYSoLIC2goIv5IoRxour",
   "include_colab_link": true,
   "name": "StarClassification.ipynb",
   "provenance": []
  },
  "kernelspec": {
   "display_name": "Python 3",
   "language": "python",
   "name": "python3"
  },
  "language_info": {
   "codemirror_mode": {
    "name": "ipython",
    "version": 3
   },
   "file_extension": ".py",
   "mimetype": "text/x-python",
   "name": "python",
   "nbconvert_exporter": "python",
   "pygments_lexer": "ipython3",
   "version": "3.8.5"
  }
 },
 "nbformat": 4,
 "nbformat_minor": 1
}
