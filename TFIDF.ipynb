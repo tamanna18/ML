{
 "metadata": {
  "language_info": {
   "codemirror_mode": {
    "name": "ipython",
    "version": 3
   },
   "file_extension": ".py",
   "mimetype": "text/x-python",
   "name": "python",
   "nbconvert_exporter": "python",
   "pygments_lexer": "ipython3",
   "version": "3.8.5-final"
  },
  "orig_nbformat": 2,
  "kernelspec": {
   "name": "python3",
   "display_name": "Python 3",
   "language": "python"
  }
 },
 "nbformat": 4,
 "nbformat_minor": 2,
 "cells": [
  {
   "cell_type": "code",
   "execution_count": 9,
   "source": [
    "import pandas as pd\n",
    "import math"
   ],
   "outputs": [],
   "metadata": {}
  },
  {
   "cell_type": "code",
   "execution_count": 10,
   "source": [
    "doc1 = [\"The sky is blue.\", \"The sun is bright today.\"]\n",
    "\n",
    "doc2 = [\"The sun in the sky is bright.\", \"We can see the shining sun, the bright sun.\"]"
   ],
   "outputs": [],
   "metadata": {}
  },
  {
   "cell_type": "code",
   "execution_count": 11,
   "source": [
    "# Create tokens for each document\n",
    "doc1_tokens = sum([doc.lower().replace(',', '').replace('.', '').split() for doc in doc1], [])\n",
    "doc2_tokens = sum([doc.lower().replace(',', '').replace('.', '').split() for doc in doc2], [])\n",
    "\n",
    "print(doc1_tokens)\n",
    "print('\\n')\n",
    "print(doc2_tokens)"
   ],
   "outputs": [
    {
     "output_type": "stream",
     "name": "stdout",
     "text": [
      "['the', 'sky', 'is', 'blue', 'the', 'sun', 'is', 'bright', 'today']\n",
      "\n",
      "\n",
      "['the', 'sun', 'in', 'the', 'sky', 'is', 'bright', 'we', 'can', 'see', 'the', 'shining', 'sun', 'the', 'bright', 'sun']\n"
     ]
    }
   ],
   "metadata": {}
  },
  {
   "cell_type": "code",
   "execution_count": 12,
   "source": [
    "# Remove stop words\n",
    "stopwords = ['a', 'the', 'i', 'me',  'is', 'to', 'then', 'what', 'are', 'for', 'my', 'as', 'can', 'and', 'in', 'of', 'am', 'it']\n",
    "\n",
    "doc1_tokens = set(doc1_tokens) - set(stopwords)\n",
    "doc2_tokens = set(doc2_tokens) - set(stopwords)\n",
    "\n",
    "\n",
    "print(doc1_tokens)\n",
    "print(doc2_tokens)"
   ],
   "outputs": [
    {
     "output_type": "stream",
     "name": "stdout",
     "text": [
      "{'sky', 'blue', 'today', 'bright', 'sun'}\n",
      "{'sky', 'shining', 'see', 'we', 'bright', 'sun'}\n"
     ]
    }
   ],
   "metadata": {}
  },
  {
   "cell_type": "code",
   "execution_count": 13,
   "source": [
    "# Find the unique set of tokens.\n",
    "unique_tokens = set(doc1_tokens).union(set(doc2_tokens))\n",
    "\n",
    "print(unique_tokens)"
   ],
   "outputs": [
    {
     "output_type": "stream",
     "name": "stdout",
     "text": [
      "{'sky', 'blue', 'today', 'shining', 'see', 'we', 'bright', 'sun'}\n"
     ]
    }
   ],
   "metadata": {}
  },
  {
   "cell_type": "code",
   "execution_count": 14,
   "source": [
    "# Maintain a dict to keep track of count of the unique words in the individual doc\n",
    "count_doc1 = dict.fromkeys(unique_tokens, 0)\n",
    "for token in doc1_tokens:\n",
    "    count_doc1[token] += 1\n",
    "    \n",
    "count_doc2 = dict.fromkeys(unique_tokens, 0)\n",
    "for token in doc2_tokens:\n",
    "    count_doc2[token] += 1\n",
    "    \n",
    "  \n",
    "print(count_doc1)\n",
    "print('\\n')\n",
    "print(count_doc2)\n"
   ],
   "outputs": [
    {
     "output_type": "stream",
     "name": "stdout",
     "text": [
      "{'sky': 1, 'blue': 1, 'today': 1, 'shining': 0, 'see': 0, 'we': 0, 'bright': 1, 'sun': 1}\n",
      "\n",
      "\n",
      "{'sky': 1, 'blue': 0, 'today': 0, 'shining': 1, 'see': 1, 'we': 1, 'bright': 1, 'sun': 1}\n"
     ]
    }
   ],
   "metadata": {}
  },
  {
   "cell_type": "code",
   "execution_count": 15,
   "source": [
    "# Calculate term frequency (TF):\n",
    "def calculate_tf(count_doc, doc_tokens):\n",
    "    tf = dict()\n",
    "    for token, count in count_doc.items():\n",
    "        tf[token] = count / float(len(doc_tokens))\n",
    "    return tf\n",
    "    \n",
    "tf1 = calculate_tf(count_doc=count_doc1, doc_tokens=doc1_tokens)\n",
    "tf2 = calculate_tf(count_doc=count_doc2, doc_tokens=doc2_tokens)\n",
    "\n",
    "print(tf1)\n",
    "print('\\n', tf2)"
   ],
   "outputs": [
    {
     "output_type": "stream",
     "name": "stdout",
     "text": [
      "{'sky': 0.2, 'blue': 0.2, 'today': 0.2, 'shining': 0.0, 'see': 0.0, 'we': 0.0, 'bright': 0.2, 'sun': 0.2}\n",
      "\n",
      " {'sky': 0.16666666666666666, 'blue': 0.0, 'today': 0.0, 'shining': 0.16666666666666666, 'see': 0.16666666666666666, 'we': 0.16666666666666666, 'bright': 0.16666666666666666, 'sun': 0.16666666666666666}\n"
     ]
    }
   ],
   "metadata": {}
  },
  {
   "cell_type": "code",
   "execution_count": 16,
   "source": [
    "# Calculate inverse document frequency IDF\n",
    "def calculate_idf(doc_counts):\n",
    "    idf = dict.fromkeys(doc_counts[0].keys(), 0)\n",
    "    for doc in doc_counts: \n",
    "        for token, count in doc.items():\n",
    "            if count!=0:\n",
    "                idf[token] += 1\n",
    "\n",
    "             \n",
    "    for token, count in idf.items():\n",
    "        idf[token] = math.log(len(doc_counts) / float(count))\n",
    "       \n",
    "    return idf\n",
    "\n",
    "idf = calculate_idf([count_doc1, count_doc2])\n",
    "print(idf)"
   ],
   "outputs": [
    {
     "output_type": "stream",
     "name": "stdout",
     "text": [
      "{'sky': 0.0, 'blue': 0.6931471805599453, 'today': 0.6931471805599453, 'shining': 0.6931471805599453, 'see': 0.6931471805599453, 'we': 0.6931471805599453, 'bright': 0.0, 'sun': 0.0}\n"
     ]
    }
   ],
   "metadata": {}
  },
  {
   "cell_type": "code",
   "execution_count": 17,
   "source": [
    "# Calculate TF-IDF\n",
    "def calculate_tfidf(tf, idf):\n",
    "    tfidf = dict()\n",
    "    for token, count in tf.items():\n",
    "        tfidf[token] = count * idf[token]\n",
    "    return tfidf"
   ],
   "outputs": [],
   "metadata": {}
  },
  {
   "cell_type": "code",
   "execution_count": 18,
   "source": [
    "\n",
    "tfidf1 = calculate_tfidf(tf1, idf)\n",
    "tfidf2 = calculate_tfidf(tf2, idf)"
   ],
   "outputs": [],
   "metadata": {}
  },
  {
   "cell_type": "code",
   "execution_count": 19,
   "source": [
    "# Create a dataframe for all the calculated values\n",
    "tfidf_df = pd.DataFrame([tfidf1, tfidf2])\n",
    "tfidf_df"
   ],
   "outputs": [
    {
     "output_type": "execute_result",
     "data": {
      "text/plain": [
       "   sky      blue     today   shining       see        we  bright  sun\n",
       "0  0.0  0.138629  0.138629  0.000000  0.000000  0.000000     0.0  0.0\n",
       "1  0.0  0.000000  0.000000  0.115525  0.115525  0.115525     0.0  0.0"
      ],
      "text/html": [
       "<div>\n",
       "<style scoped>\n",
       "    .dataframe tbody tr th:only-of-type {\n",
       "        vertical-align: middle;\n",
       "    }\n",
       "\n",
       "    .dataframe tbody tr th {\n",
       "        vertical-align: top;\n",
       "    }\n",
       "\n",
       "    .dataframe thead th {\n",
       "        text-align: right;\n",
       "    }\n",
       "</style>\n",
       "<table border=\"1\" class=\"dataframe\">\n",
       "  <thead>\n",
       "    <tr style=\"text-align: right;\">\n",
       "      <th></th>\n",
       "      <th>sky</th>\n",
       "      <th>blue</th>\n",
       "      <th>today</th>\n",
       "      <th>shining</th>\n",
       "      <th>see</th>\n",
       "      <th>we</th>\n",
       "      <th>bright</th>\n",
       "      <th>sun</th>\n",
       "    </tr>\n",
       "  </thead>\n",
       "  <tbody>\n",
       "    <tr>\n",
       "      <th>0</th>\n",
       "      <td>0.0</td>\n",
       "      <td>0.138629</td>\n",
       "      <td>0.138629</td>\n",
       "      <td>0.000000</td>\n",
       "      <td>0.000000</td>\n",
       "      <td>0.000000</td>\n",
       "      <td>0.0</td>\n",
       "      <td>0.0</td>\n",
       "    </tr>\n",
       "    <tr>\n",
       "      <th>1</th>\n",
       "      <td>0.0</td>\n",
       "      <td>0.000000</td>\n",
       "      <td>0.000000</td>\n",
       "      <td>0.115525</td>\n",
       "      <td>0.115525</td>\n",
       "      <td>0.115525</td>\n",
       "      <td>0.0</td>\n",
       "      <td>0.0</td>\n",
       "    </tr>\n",
       "  </tbody>\n",
       "</table>\n",
       "</div>"
      ]
     },
     "metadata": {},
     "execution_count": 19
    }
   ],
   "metadata": {}
  },
  {
   "cell_type": "code",
   "execution_count": null,
   "source": [],
   "outputs": [],
   "metadata": {}
  }
 ]
}