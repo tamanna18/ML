{
 "cells": [
  {
   "cell_type": "markdown",
   "metadata": {
    "id": "E7c4DXzXUgZ5"
   },
   "source": [
    "# Descriptive Statistics"
   ]
  },
  {
   "cell_type": "markdown",
   "metadata": {
    "id": "4oGEWXUKUlkL"
   },
   "source": [
    "## Central Tendency"
   ]
  },
  {
   "cell_type": "code",
   "execution_count": null,
   "metadata": {
    "id": "Ub4eAS83TsJB"
   },
   "outputs": [],
   "source": [
    "# arithmetic mean\n",
    "def arithmeticMean(observations):\n",
    "  var = 0\n",
    "  for o in observations:\n",
    "    var += o\n",
    "  return var/len(observations)\n",
    "\n",
    "# geometric mean\n",
    "def geometricMean(observations):\n",
    "  var = 1\n",
    "  for o in observations:\n",
    "    var *= o\n",
    "  return var ** (1/float(len(observations)))\n",
    "\n",
    "# harmonic mean\n",
    "def harmonicMean(observations):\n",
    "  var = 1\n",
    "  for o in observations:\n",
    "    var *= 1/o\n",
    "  return var/len(observations)"
   ]
  },
  {
   "cell_type": "code",
   "execution_count": null,
   "metadata": {
    "id": "-SOo5L8GVoKc"
   },
   "outputs": [],
   "source": [
    "# median\n",
    "def median(observations):\n",
    "  ordered = observations.sort()\n",
    "  n = len(observations)\n",
    "  if ((n % 2) == 0):\n",
    "    i = len(n)/2 \n",
    "    return (ordered[i-1] + ordered[i])/2\n",
    "  return ordered[ ((n-1)/2)-1 ]\n",
    "\n",
    "# quartiles\n",
    "def quartiles(observations)\n",
    "  ordered = observations.sort()\n",
    "  n = len(observations)\n",
    "  if ((n % 2) == 0):\n",
    "    return [ordered[(n/4)-1], ordered[(n*0.75)-1]]\n",
    "  return [ordered[((n-1)/4)-1], ordered[((n-1)*0.75)-1]]\n",
    "\n",
    "# interquartile range\n",
    "def interquartileRange(observations):\n",
    "  quartiles = quartiles(observations)\n",
    "  return (quartiles[1] - quartiles[0])\n",
    "\n",
    "# midhinge\n",
    "def midhinge(observations):\n",
    "  quartiles = quartiles(observations)\n",
    "  return (quartiles[1] + quartiles[0])/2\n",
    "\n",
    "# range\n",
    "def range(observations):\n",
    "  obs = observations.sort()\n",
    "  return (obs[len(obs)-1] - obs[0])"
   ]
  },
  {
   "cell_type": "code",
   "execution_count": null,
   "metadata": {
    "id": "VAJ5ZKukVqaG"
   },
   "outputs": [],
   "source": [
    "from collections import Counter\n",
    "\n",
    "# mode\n",
    "def mode(observations):\n",
    "  occurrences = Counter(observations)\n",
    "  return occurrences.most_common(1)[0][0]"
   ]
  },
  {
   "cell_type": "markdown",
   "metadata": {
    "id": "KLfnVb51LB41"
   },
   "source": [
    "## Dispersion"
   ]
  },
  {
   "cell_type": "code",
   "execution_count": null,
   "metadata": {
    "id": "Rh593IhFVzB6"
   },
   "outputs": [],
   "source": [
    "# standard deviation\n",
    "def stdDeviation(observations):\n",
    "  mean = arithmeticMean(observations)\n",
    "  var = 0\n",
    "  for o in observations:\n",
    "    var += ((o - mean)**2)\n",
    "  var /= (len(observations)-1)\n",
    "  return var**(0.5)\n",
    "\n",
    "# mean absolute deviation\n",
    "def meanAbsDeviation(observations):\n",
    "  mean = arithmeticMean(observations)\n",
    "  var = 0\n",
    "  for o in observations:\n",
    "    var += abs(o - mean)\n",
    "  return var/len(observations)\n",
    "\n",
    "# median absolute deviation\n",
    "def medianAbsDeviation(observations):\n",
    "  median = median(observations)\n",
    "  deviations = list()\n",
    "  for o in observations:\n",
    "    deviations.append(abs(o - median))\n",
    "  return median(deviations)\n",
    "\n",
    "# variance\n",
    "def variance(observations):\n",
    "  mean = arithmeticMean(observations)\n",
    "  var = 0\n",
    "  for o in observations:\n",
    "    var += (o - mean)**2\n",
    "  return var/(len(observations)-1)\n",
    "\n",
    "# coefficient of variation\n",
    "def coeffVariation(observations):\n",
    "  return 100*(stdDeviation(observations)/arithmeticMean(observations)"
   ]
  },
  {
   "cell_type": "markdown",
   "metadata": {
    "id": "Mzc82NaGpPeQ"
   },
   "source": [
    "## Shape"
   ]
  },
  {
   "cell_type": "code",
   "execution_count": null,
   "metadata": {
    "id": "YM3au_VYphOW"
   },
   "outputs": [],
   "source": [
    "# rth central moments\n",
    "def centralMoment(observations, r):\n",
    "  mean = arithmeticMean(observations)\n",
    "  var = 0\n",
    "  for o in observations:\n",
    "    var += (o - mean)**r \n",
    "  return var/len(observations)\n",
    "\n",
    "# skewness\n",
    "def skewness(observations):\n",
    "  return centralMoment(observations, 3)/(centralMoment(2)**(1.75))\n",
    "  \n",
    "# kurtosis\n",
    "def kurtosis(observations):\n",
    "  return (centralMoment(observations, 4)/(centralMoment(observations, 2)**2))-3\n",
    "\n",
    "# outliers detected via Box Plot Limits\n",
    "def outliers(observations):\n",
    "  outliers = list()\n",
    "  iqr = interquartileChange(observations)\n",
    "  quartiles = quartiles(observation)\n",
    "  for o in observations:\n",
    "    if (o < quartiles[0]-(1.5*iqr) or o > quartiles[1]+(1.5*iqr)):\n",
    "      outliers.append(o)\n",
    "  return outliers.sort()"
   ]
  }
 ],
 "metadata": {
  "colab": {
   "authorship_tag": "ABX9TyMRgjmGxlkEda/3PMq45i8O",
   "include_colab_link": true,
   "name": "Descriptive Statistics.ipynb",
   "provenance": [],
   "toc_visible": true
  },
  "kernelspec": {
   "display_name": "Python 3",
   "language": "python",
   "name": "python3"
  },
  "language_info": {
   "codemirror_mode": {
    "name": "ipython",
    "version": 3
   },
   "file_extension": ".py",
   "mimetype": "text/x-python",
   "name": "python",
   "nbconvert_exporter": "python",
   "pygments_lexer": "ipython3",
   "version": "3.8.5"
  }
 },
 "nbformat": 4,
 "nbformat_minor": 1
}
